{
 "cells": [
  {
   "cell_type": "code",
   "execution_count": null,
   "id": "50fd801a-87e3-42a8-a8fc-3d7e4eacfa88",
   "metadata": {},
   "outputs": [
    {
     "name": "stdout",
     "output_type": "stream",
     "text": [
      "Bucket datalake already exists\n",
      "user_interactions_sample.csv successfully uploaded as object user_interactions_sample.csv to bucket datalake\n"
     ]
    }
   ],
   "source": [
    "# file_uploader.py MinIO Python SDK example\n",
    "from minio import Minio\n",
    "from minio.error import S3Error\n",
    "import os\n",
    "\n",
    "def main():\n",
    "    # Create a client with the MinIO server endpoint, its access key\n",
    "    # and secret key.\n",
    "    ## DEFINE SENSITIVE VARIABLES\n",
    "    CMD = \"curl -v minio-lake:9000 2>&1 | grep -o '(.*).' | tr -d '() '\"\n",
    "    # Capture the output of the command using subprocess\n",
    "    MINIO_END_POINT = os.popen(CMD).read().replace('\\n', '')  +':9000'\n",
    "    MINIO_SECRET_KEY = os.environ.get('MINIO_SECRET_KEY')\n",
    "    MINIO_END_POINT = os.environ.get('MINIO_END_POINT')\n",
    "\n",
    "    client = Minio(MINIO_END_POINT,\n",
    "        access_key=MINIO_ACCESS_KEY,\n",
    "        secret_key=MINIO_SECRET_KEY,\n",
    "        secure=False\n",
    "    )\n",
    "\n",
    "    # The file to upload, change this path if needed\n",
    "    source_file = \"sample.csv\"\n",
    "\n",
    "    # The destination bucket and filename on the MinIO server\n",
    "    bucket_name = \"datalake\"\n",
    "    destination_file = \"sample.csv\"\n",
    "\n",
    "    # Make the bucket if it doesn't exist.\n",
    "    found = client.bucket_exists(bucket_name)\n",
    "    if not found:\n",
    "        client.make_bucket(bucket_name)\n",
    "        print(\"Created bucket\", bucket_name)\n",
    "    else:\n",
    "        print(\"Bucket\", bucket_name, \"already exists\")\n",
    "\n",
    "    # Upload the file, renaming it in the process\n",
    "    client.fput_object(\n",
    "        bucket_name, destination_file, source_file,\n",
    "    )\n",
    "    print(\n",
    "        source_file, \"successfully uploaded as object\",\n",
    "        destination_file, \"to bucket\", bucket_name,\n",
    "    )\n",
    "\n",
    "if __name__ == \"__main__\":\n",
    "    try:\n",
    "        main()\n",
    "    except S3Error as exc:\n",
    "        print(\"error occurred.\", exc)"
   ]
  },
  {
   "cell_type": "code",
   "execution_count": null,
   "id": "73ad3f14-cb4b-4b05-abe8-10e65ec8e27c",
   "metadata": {},
   "outputs": [],
   "source": []
  }
 ],
 "metadata": {
  "kernelspec": {
   "display_name": "Python 3 (ipykernel)",
   "language": "python",
   "name": "python3"
  },
  "language_info": {
   "codemirror_mode": {
    "name": "ipython",
    "version": 3
   },
   "file_extension": ".py",
   "mimetype": "text/x-python",
   "name": "python",
   "nbconvert_exporter": "python",
   "pygments_lexer": "ipython3",
   "version": "3.12.10"
  }
 },
 "nbformat": 4,
 "nbformat_minor": 5
}
